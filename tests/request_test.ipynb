{
 "cells": [
  {
   "cell_type": "code",
   "execution_count": 1,
   "id": "84980a7f",
   "metadata": {},
   "outputs": [],
   "source": [
    "import requests\n",
    "import timeit"
   ]
  },
  {
   "cell_type": "code",
   "execution_count": 2,
   "id": "9b39da5c",
   "metadata": {},
   "outputs": [],
   "source": [
    "import numpy as np\n",
    "import matplotlib.pyplot as plt\n",
    "import pandas as pd\n",
    "from matplotlib.patches import Ellipse\n",
    "from scipy.signal import chirp, find_peaks, peak_widths"
   ]
  },
  {
   "cell_type": "code",
   "execution_count": 8,
   "id": "082588a7",
   "metadata": {},
   "outputs": [],
   "source": [
    "request_url = \"http://black:8080/generate\"\n",
    "parameters = { \n",
    "    \"particle_count\": 10000, \n",
    "    \"dist_z\": \"gauss\",\n",
    "    \"sig_Ekin\": 1.5,\n",
    "    \"Nemit_x\": 1.0E0,\n",
    "    \"sig_y\": 0.75E0,\n",
    "    \"Nemit_y\": 1.0E0,\n",
    "    \"C_sig_z\": 2.0,\n",
    "    \"sig_z\": 1.0E0,\n",
    "    \"sig_x\":0.75E0,\n",
    "    \"Ref_Ekin\":2.0E0\n",
    "}"
   ]
  },
  {
   "cell_type": "code",
   "execution_count": 9,
   "id": "06acb242",
   "metadata": {},
   "outputs": [],
   "source": [
    "r = requests.post(request_url, json=parameters)"
   ]
  },
  {
   "cell_type": "code",
   "execution_count": 10,
   "id": "e97d2a8f",
   "metadata": {},
   "outputs": [
    {
     "data": {
      "text/plain": [
       "200"
      ]
     },
     "execution_count": 10,
     "metadata": {},
     "output_type": "execute_result"
    }
   ],
   "source": [
    "r.status_code"
   ]
  },
  {
   "cell_type": "code",
   "execution_count": 6,
   "id": "336220a8",
   "metadata": {},
   "outputs": [
    {
     "data": {
      "text/plain": [
       "dict_keys(['timestamp', 'particles'])"
      ]
     },
     "execution_count": 6,
     "metadata": {},
     "output_type": "execute_result"
    }
   ],
   "source": [
    "raw_data = r.json()\n",
    "raw_data.keys()"
   ]
  },
  {
   "cell_type": "code",
   "execution_count": 7,
   "id": "8d64a145",
   "metadata": {},
   "outputs": [
    {
     "data": {
      "text/html": [
       "<div>\n",
       "<style scoped>\n",
       "    .dataframe tbody tr th:only-of-type {\n",
       "        vertical-align: middle;\n",
       "    }\n",
       "\n",
       "    .dataframe tbody tr th {\n",
       "        vertical-align: top;\n",
       "    }\n",
       "\n",
       "    .dataframe thead th {\n",
       "        text-align: right;\n",
       "    }\n",
       "</style>\n",
       "<table border=\"1\" class=\"dataframe\">\n",
       "  <thead>\n",
       "    <tr style=\"text-align: right;\">\n",
       "      <th></th>\n",
       "      <th>x</th>\n",
       "      <th>y</th>\n",
       "      <th>z</th>\n",
       "      <th>px</th>\n",
       "      <th>py</th>\n",
       "      <th>pz</th>\n",
       "      <th>clock</th>\n",
       "      <th>macro_charge</th>\n",
       "      <th>particle_index</th>\n",
       "      <th>status_flag</th>\n",
       "    </tr>\n",
       "  </thead>\n",
       "  <tbody>\n",
       "    <tr>\n",
       "      <th>0</th>\n",
       "      <td>0.000000</td>\n",
       "      <td>0.000000</td>\n",
       "      <td>0.0</td>\n",
       "      <td>0.000</td>\n",
       "      <td>0.00</td>\n",
       "      <td>2458500.00</td>\n",
       "      <td>0.000000</td>\n",
       "      <td>-0.0001</td>\n",
       "      <td>1</td>\n",
       "      <td>-1</td>\n",
       "    </tr>\n",
       "    <tr>\n",
       "      <th>1</th>\n",
       "      <td>0.000375</td>\n",
       "      <td>0.000000</td>\n",
       "      <td>0.0</td>\n",
       "      <td>0.000</td>\n",
       "      <td>0.00</td>\n",
       "      <td>0.00</td>\n",
       "      <td>0.000500</td>\n",
       "      <td>-0.0001</td>\n",
       "      <td>1</td>\n",
       "      <td>-3</td>\n",
       "    </tr>\n",
       "    <tr>\n",
       "      <th>2</th>\n",
       "      <td>0.000000</td>\n",
       "      <td>0.000375</td>\n",
       "      <td>0.0</td>\n",
       "      <td>0.000</td>\n",
       "      <td>0.00</td>\n",
       "      <td>0.00</td>\n",
       "      <td>-0.000500</td>\n",
       "      <td>-0.0001</td>\n",
       "      <td>1</td>\n",
       "      <td>-3</td>\n",
       "    </tr>\n",
       "    <tr>\n",
       "      <th>3</th>\n",
       "      <td>0.000750</td>\n",
       "      <td>0.000000</td>\n",
       "      <td>0.0</td>\n",
       "      <td>0.000</td>\n",
       "      <td>0.00</td>\n",
       "      <td>0.00</td>\n",
       "      <td>0.001000</td>\n",
       "      <td>-0.0001</td>\n",
       "      <td>1</td>\n",
       "      <td>-3</td>\n",
       "    </tr>\n",
       "    <tr>\n",
       "      <th>4</th>\n",
       "      <td>0.000000</td>\n",
       "      <td>0.000750</td>\n",
       "      <td>0.0</td>\n",
       "      <td>0.000</td>\n",
       "      <td>0.00</td>\n",
       "      <td>0.00</td>\n",
       "      <td>-0.001000</td>\n",
       "      <td>-0.0001</td>\n",
       "      <td>1</td>\n",
       "      <td>-3</td>\n",
       "    </tr>\n",
       "    <tr>\n",
       "      <th>...</th>\n",
       "      <td>...</td>\n",
       "      <td>...</td>\n",
       "      <td>...</td>\n",
       "      <td>...</td>\n",
       "      <td>...</td>\n",
       "      <td>...</td>\n",
       "      <td>...</td>\n",
       "      <td>...</td>\n",
       "      <td>...</td>\n",
       "      <td>...</td>\n",
       "    </tr>\n",
       "    <tr>\n",
       "      <th>9995</th>\n",
       "      <td>-0.000230</td>\n",
       "      <td>0.000200</td>\n",
       "      <td>0.0</td>\n",
       "      <td>720.630</td>\n",
       "      <td>790.30</td>\n",
       "      <td>-502.49</td>\n",
       "      <td>-0.001832</td>\n",
       "      <td>-0.0001</td>\n",
       "      <td>1</td>\n",
       "      <td>-1</td>\n",
       "    </tr>\n",
       "    <tr>\n",
       "      <th>9996</th>\n",
       "      <td>-0.000349</td>\n",
       "      <td>0.000053</td>\n",
       "      <td>0.0</td>\n",
       "      <td>489.310</td>\n",
       "      <td>425.47</td>\n",
       "      <td>474.05</td>\n",
       "      <td>0.002151</td>\n",
       "      <td>-0.0001</td>\n",
       "      <td>1</td>\n",
       "      <td>-1</td>\n",
       "    </tr>\n",
       "    <tr>\n",
       "      <th>9997</th>\n",
       "      <td>-0.000478</td>\n",
       "      <td>-0.000092</td>\n",
       "      <td>0.0</td>\n",
       "      <td>304.350</td>\n",
       "      <td>156.16</td>\n",
       "      <td>-1788.60</td>\n",
       "      <td>0.000387</td>\n",
       "      <td>-0.0001</td>\n",
       "      <td>1</td>\n",
       "      <td>-1</td>\n",
       "    </tr>\n",
       "    <tr>\n",
       "      <th>9998</th>\n",
       "      <td>-0.000622</td>\n",
       "      <td>-0.000241</td>\n",
       "      <td>0.0</td>\n",
       "      <td>139.760</td>\n",
       "      <td>-89.95</td>\n",
       "      <td>2307.90</td>\n",
       "      <td>-0.000476</td>\n",
       "      <td>-0.0001</td>\n",
       "      <td>1</td>\n",
       "      <td>-1</td>\n",
       "    </tr>\n",
       "    <tr>\n",
       "      <th>9999</th>\n",
       "      <td>-0.000795</td>\n",
       "      <td>-0.000399</td>\n",
       "      <td>0.0</td>\n",
       "      <td>-16.887</td>\n",
       "      <td>-348.61</td>\n",
       "      <td>-254.57</td>\n",
       "      <td>0.001141</td>\n",
       "      <td>-0.0001</td>\n",
       "      <td>1</td>\n",
       "      <td>-1</td>\n",
       "    </tr>\n",
       "  </tbody>\n",
       "</table>\n",
       "<p>10000 rows × 10 columns</p>\n",
       "</div>"
      ],
      "text/plain": [
       "             x         y    z       px      py          pz     clock  \\\n",
       "0     0.000000  0.000000  0.0    0.000    0.00  2458500.00  0.000000   \n",
       "1     0.000375  0.000000  0.0    0.000    0.00        0.00  0.000500   \n",
       "2     0.000000  0.000375  0.0    0.000    0.00        0.00 -0.000500   \n",
       "3     0.000750  0.000000  0.0    0.000    0.00        0.00  0.001000   \n",
       "4     0.000000  0.000750  0.0    0.000    0.00        0.00 -0.001000   \n",
       "...        ...       ...  ...      ...     ...         ...       ...   \n",
       "9995 -0.000230  0.000200  0.0  720.630  790.30     -502.49 -0.001832   \n",
       "9996 -0.000349  0.000053  0.0  489.310  425.47      474.05  0.002151   \n",
       "9997 -0.000478 -0.000092  0.0  304.350  156.16    -1788.60  0.000387   \n",
       "9998 -0.000622 -0.000241  0.0  139.760  -89.95     2307.90 -0.000476   \n",
       "9999 -0.000795 -0.000399  0.0  -16.887 -348.61     -254.57  0.001141   \n",
       "\n",
       "      macro_charge  particle_index  status_flag  \n",
       "0          -0.0001               1           -1  \n",
       "1          -0.0001               1           -3  \n",
       "2          -0.0001               1           -3  \n",
       "3          -0.0001               1           -3  \n",
       "4          -0.0001               1           -3  \n",
       "...            ...             ...          ...  \n",
       "9995       -0.0001               1           -1  \n",
       "9996       -0.0001               1           -1  \n",
       "9997       -0.0001               1           -1  \n",
       "9998       -0.0001               1           -1  \n",
       "9999       -0.0001               1           -1  \n",
       "\n",
       "[10000 rows x 10 columns]"
      ]
     },
     "execution_count": 7,
     "metadata": {},
     "output_type": "execute_result"
    }
   ],
   "source": [
    "data = pd.DataFrame(raw_data['particles'])\n",
    "data"
   ]
  },
  {
   "cell_type": "code",
   "execution_count": 126,
   "id": "00f9e02b",
   "metadata": {},
   "outputs": [],
   "source": [
    "x = data.loc[:, 'x'].values\n",
    "px = data.loc[:, 'px'].values"
   ]
  },
  {
   "cell_type": "code",
   "execution_count": 129,
   "id": "7f8ac597",
   "metadata": {},
   "outputs": [
    {
     "data": {
      "image/png": "[encoded data removed]",
      "text/plain": [
       "<Figure size 432x288 with 1 Axes>"
      ]
     },
     "metadata": {
      "needs_background": "light"
     },
     "output_type": "display_data"
    }
   ],
   "source": [
    "plt.figure()\n",
    "ax = plt.gca()\n",
    "\n",
    "ax.plot(x,px, \"ro\")\n",
    "ellipse = Ellipse((0.0,0.0), 2*2.35*np.std(x), 2*2.35*np.std(px), edgecolor='blue', fc='None', lw=2,zorder=3)\n",
    "                        \n",
    "ax.add_patch(ellipse)\n",
    "plt.show()"
   ]
  },
  {
   "cell_type": "code",
   "execution_count": null,
   "id": "6d63ed48",
   "metadata": {},
   "outputs": [],
   "source": []
  }
 ],
 "metadata": {
  "kernelspec": {
   "display_name": "Python 3 (ipykernel)",
   "language": "python",
   "name": "python3"
  },
  "language_info": {
   "codemirror_mode": {
    "name": "ipython",
    "version": 3
   },
   "file_extension": ".py",
   "mimetype": "text/x-python",
   "name": "python",
   "nbconvert_exporter": "python",
   "pygments_lexer": "ipython3",
   "version": "3.10.12"
  }
 },
 "nbformat": 4,
 "nbformat_minor": 5
}
